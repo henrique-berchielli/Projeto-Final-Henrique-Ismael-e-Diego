{
    "cells": [
        {
            "attachments": {},
            "cell_type": "markdown",
            "metadata": {
                "azdata_cell_guid": "29e656d8-4c72-4ea7-9766-571853099c35"
            },
            "source": [
                "Bibliotecas necessárias para o projeto\n",
                "\n",
                "Ambiente virtual instalação:\n",
                "1. pip install virtualenv\n",
                "2. pip install virtualenvwrapper-win\n",
                "\n",
                "Criação do ambiente:\n",
                "1. python -m venv <nome do ambiente virtual>\n",
                "\n",
                "Manipulação:\n",
                "Abrir ambiente virtual -> .\\coderhouse\\Scripts\\Activate.ps1\n",
                "Desativar -> deactivate"
            ]
        },
        {
            "cell_type": "code",
            "execution_count": 8,
            "metadata": {
                "azdata_cell_guid": "dca452cb-50df-49f4-b347-ce4354d2dada",
                "language": "python"
            },
            "outputs": [],
            "source": [
                "import pandas as pd, requests as rq, sqlite3, datetime as dt, pprint \n",
                "from plyer import notification"
            ]
        },
        {
            "attachments": {},
            "cell_type": "markdown",
            "metadata": {
                "azdata_cell_guid": "ccbe89ef-9efb-4293-814a-d10ce44e002b"
            },
            "source": [
                "**\\# Função de alerta**"
            ]
        },
        {
            "cell_type": "code",
            "execution_count": 9,
            "metadata": {
                "azdata_cell_guid": "d9fd79ab-edec-407f-a703-cdefdfe3c908",
                "language": "python"
            },
            "outputs": [],
            "source": [
                "def alerta(nivel,base,etapa):\n",
                "    \"\"\"\n",
                "   Function para gerar alertas de erros\n",
                "\n",
                "    :param nivel: int\n",
                "    :param base: string\n",
                "    :param etapa: string\n",
                "    :return notificacao\n",
                "    \n",
                "    \"\"\" \n",
                "    msg = ''\n",
                "    match nivel:\n",
                "        case 1:\n",
                "            msg = 'Falha ao inserir dados no banco'\n",
                "        case 2:\n",
                "            msg = 'Falha ao carregar a API'\n",
                "        case 3:\n",
                "            msg = 'Falha ao ler dados no banco'\n",
                "        case _:\n",
                "            msg= 'Ocorreu um erro verifique!!'\n",
                "\n",
                "    notificacao =  notification.notify(\n",
                "                    title = msg,\n",
                "                    message = f'{msg} {base}, na etapa: {etapa}',\n",
                "                    app_name = etapa,     \n",
                "                    timeout = 10,\n",
                "             )\n",
                "\n",
                "    return notificacao"
            ]
        },
        {
            "attachments": {},
            "cell_type": "markdown",
            "metadata": {
                "azdata_cell_guid": "401be0c0-75d1-45fe-a8f2-1cb6332a1457"
            },
            "source": [
                "**\\# Banco de dados**"
            ]
        },
        {
            "cell_type": "code",
            "execution_count": 10,
            "metadata": {
                "azdata_cell_guid": "7c8b5d52-5cd4-4c51-8c8b-e02c5ed9b224",
                "language": "python"
            },
            "outputs": [],
            "source": [
                "def inserir_dadosDB(df, nome_tabela):\n",
                "    \"\"\"\n",
                "   Function para inserir um dataframe no banco de dados\n",
                "\n",
                "    :param df: dataframe\n",
                "    :param nome_tabela: string\n",
                "    \n",
                "    \"\"\" \n",
                "\n",
                "    conn = sqlite3.connect('coderhouse.db')\n",
                "\n",
                "    # Escrever o DataFrame na tabela 'nome_tabela'\n",
                "    df.to_sql(nome_tabela, conn, if_exists='replace', index=False)\n",
                "\n",
                "    conn.close()\n",
                "\n",
                "    return True\n",
                "\n",
                "def ler_dadosDB(nome_tabela):\n",
                "    \"\"\"\n",
                "        Function para ler uma tabela no banco e retornar um dataframe\n",
                "\n",
                "        :param nome_tabela: string\n",
                "        :return df: dataframe\n",
                "    \n",
                "    \"\"\" \n",
                "    \n",
                "    con = sqlite3.connect(\"coderhouse.db\")\n",
                "\n",
                "    query = f\"SELECT * FROM {nome_tabela}\"\n",
                "    df = pd.read_sql(query,con)\n",
                "\n",
                "    con.close()\n",
                "\n",
                "    return df\n",
                "\n",
                "\n",
                "def sys_tables():\n",
                "    \"\"\"\n",
                "        Function que retorna um dataframe com as tabelas no banco de dados\n",
                "        :return schema: dataframe\n",
                "    \"\"\"\n",
                "\n",
                "    con = sqlite3.connect(\"coderhouse.db\")\n",
                "    query = f\"SELECT name from sqlite_master WHERE type = 'table'\"\n",
                "    schema = pd.read_sql_query(query, con)\n",
                "    con.close()\n",
                "    return schema\n"
            ]
        },
        {
            "attachments": {},
            "cell_type": "markdown",
            "metadata": {
                "azdata_cell_guid": "75e437d7-ce7d-4c80-9bbb-3bdd65ec27b3"
            },
            "source": [
                "**Extração**"
            ]
        },
        {
            "cell_type": "code",
            "execution_count": 11,
            "metadata": {
                "azdata_cell_guid": "87bff7d9-000c-41b3-8041-18f1082c8ee1",
                "language": "python"
            },
            "outputs": [],
            "source": [
                "# cnpj = '54517628000198'\n",
                "\n",
                "def  tipo_url(tipo, dado):\n",
                "    \"\"\"\n",
                "        Function que retorna o end point de acordo com os parametros passados\n",
                "        :param tipo: string\n",
                "        :param dado: string\n",
                "        :return url: string\n",
                "    \"\"\"    \n",
                "    tipo = tipo.lower()\n",
                "    if tipo == 'cnpj':\n",
                "        url  = f'https://brasilapi.com.br/api/cnpj/v1/{dado}'\n",
                "    elif tipo == 'clima':\n",
                "        url  = f'https://brasilapi.com.br/api/cptec/v1/clima/previsao/{dado}'\n",
                "    elif tipo == 'cidade':\n",
                "        url  = f'https://brasilapi.com.br/api/cptec/v1/cidade/{dado}'\n",
                "    else: \n",
                "        raise Exception(f\"erro request {tipo} ou {dado}invalido\")\n",
                "    return url\n",
                "  \n",
                "\n",
                "def get_api(dado):\n",
                "    \"\"\"\n",
                "        Function que retorna os dados do end point\n",
                "        :param dado: string\n",
                "        :return data_jason: dataframe\n",
                "    \"\"\"       \n",
                "    url = dado\n",
                "    response =  rq.get(url)\n",
                "    if response.status_code == 200:\n",
                "        data_jason = response.json()\n",
                "    else:\n",
                "        alerta(1,'cnpj', 'Falha ao carregar dados do cnpj') #// TODO ajustar mensagem\n",
                "    \n",
                "    return data_jason\n",
                "\n"
            ]
        },
        {
            "attachments": {},
            "cell_type": "markdown",
            "metadata": {
                "azdata_cell_guid": "59321801-01b1-46fa-b1ce-fbc89b9cacbd"
            },
            "source": [
                "**Transformação**"
            ]
        },
        {
            "cell_type": "code",
            "execution_count": 12,
            "metadata": {
                "azdata_cell_guid": "54fd4026-1bae-4d0a-8e18-314f4c689ecd",
                "language": "python"
            },
            "outputs": [],
            "source": [
                "# pprint.pprint(data_jason)    \n",
                "\n",
                "def trata_dataframe(tipo,dataframe):\n",
                "    \"\"\"\n",
                "        Function que retorna um dataframe com os dados tratados de acordo com os dados passados\n",
                "        :param tipo: string\n",
                "        :param dataframe: dataframe\n",
                "        :return dados: dataframe\n",
                "    \"\"\"    \n",
                "    if tipo == 'empresa':\n",
                "        \n",
                "        data_json = dataframe\n",
                "        cnpj = [data_json['cnpj'] for item in data_json]\n",
                "        bairros = [data_json['bairro'] for item in data_json]\n",
                "        razao_social = [data_json['razao_social'] for item in data_json]\n",
                "        capital_social = [data_json['capital_social'] for item in data_json]\n",
                "        cep = [data_json['cep'] for item in data_json]\n",
                "        cnae_fiscal = [data_json['cnae_fiscal'] for item in data_json]\n",
                "        cnae_fiscal_descricao = [data_json['cnae_fiscal_descricao'] for item in data_json]\n",
                "        cnae_fiscal_descricao = [data_json['cnae_fiscal_descricao'] for item in data_json]\n",
                "        codigo_municipio = [data_json['codigo_municipio'] for item in data_json]\n",
                "        municipio = [data_json['municipio'] for item in data_json]\n",
                "\n",
                "        dado = pd.DataFrame({\n",
                "        'cnpj': cnpj,\n",
                "        'razao_social': razao_social,\n",
                "        'capital_social': capital_social,\n",
                "        'cnae_fiscal': cnae_fiscal,\n",
                "        'cnae_fiscal_descricao': cnae_fiscal_descricao,\n",
                "        'bairro': bairros,\n",
                "        'cep': cep,\n",
                "        \"codigo_municipio\": codigo_municipio,\n",
                "        \"municipio\": municipio,\n",
                "        })\n",
                "        dados = dado.head(1)\n",
                "\n",
                "    elif tipo == 'cidade':\n",
                "        data_json = dataframe\n",
                "        # cityName = data_json['municipio'].to_string(index=False)\n",
                "        nome = [data_json[0]['nome']for item in data_json]\n",
                "        id_estado = [data_json[0]['id'] for item in data_json]\n",
                "        estado = [data_json[0]['estado'] for item in data_json]\n",
                "\n",
                "        dado = pd.DataFrame({\n",
                "        'nome': nome,\n",
                "        'id': id_estado,\n",
                "        'estado': estado,\n",
                "        })\n",
                "        \n",
                "        dados = dado.head(1)\n",
                "\n",
                "    elif tipo == 'clima':\n",
                "        # cityName = '3030'\n",
                "        # cityCode = descr_cidades['id'].to_string(index=False)\n",
                "        data_json = dataframe\n",
                "        cidade = [data_json['cidade']for item in data_json]\n",
                "        estado = [data_json['estado'] for item in data_json]\n",
                "        clima = [data_json['clima'][0]['condicao_desc'] for item in data_json]\n",
                "        temperatura_max = [data_json['clima'][0]['max'] for item in data_json]\n",
                "        temperatura_min = [data_json['clima'][0]['min'] for item in data_json]\n",
                "        atualizado_em = [data_json['atualizado_em'] for item in data_json]\n",
                "\n",
                "\n",
                "        dado = pd.DataFrame({\n",
                "            'cidade': cidade,\n",
                "            'estado': estado,\n",
                "            'clima': clima,\n",
                "            'temperatura_max': temperatura_max,\n",
                "            'temperatura_min': temperatura_min,\n",
                "            'atualizado_em': atualizado_em,\n",
                "        })\n",
                "        dados = dado.head(1)\n",
                "    else:\n",
                "        raise Exception(f\"erro request {dataframe} invalido\")\n",
                "    return dados"
            ]
        },
        {
            "attachments": {},
            "cell_type": "markdown",
            "metadata": {
                "azdata_cell_guid": "140df6c4-8873-4182-86a5-c409b296147a"
            },
            "source": [
                "**Main**"
            ]
        },
        {
            "cell_type": "code",
            "execution_count": 13,
            "metadata": {
                "azdata_cell_guid": "65d3dc23-0a4d-4515-b2b9-7da8b356f8f7",
                "language": "python"
            },
            "outputs": [],
            "source": [
                "def main(cnpj):\n",
                "    \"\"\"\n",
                "        Function principal que faz a chamada de todas as funções\n",
                "        :param cnpj: string\n",
                "    \"\"\"    \n",
                "    #CNPJ\n",
                "\n",
                "    url = tipo_url('cnpj', cnpj)\n",
                "\n",
                "    data_empresa = get_api(url)\n",
                "    empresa = trata_dataframe('empresa',data_empresa)\n",
                "\n",
                "    #CIDADE\n",
                "\n",
                "    cidade = empresa['municipio'].to_string(index=False)\n",
                "    url = tipo_url('cidade', cidade)\n",
                "    data_cidade = get_api(url)\n",
                "    cidades = trata_dataframe('cidade',data_cidade)\n",
                "\n",
                "    #CLIMA\n",
                "\n",
                "    clima = cidades['id'].to_string(index=False)\n",
                "    url = tipo_url('clima', clima)\n",
                "\n",
                " \n",
                "    data_clima = get_api(url)\n",
                "    climas = trata_dataframe('clima',data_clima)\n",
                " \n",
                "    descr_empresa = [empresa,climas]\n",
                "    result = pd.concat(descr_empresa, axis=1)\n",
                "    inserir_dadosDB(result,'empresa')\n"
            ]
        },
        {
            "attachments": {},
            "cell_type": "markdown",
            "metadata": {
                "azdata_cell_guid": "559c0266-31c7-4aa9-9591-5460f8a85cfe"
            },
            "source": [
                "**LOAD**"
            ]
        },
        {
            "cell_type": "code",
            "execution_count": 14,
            "metadata": {
                "azdata_cell_guid": "8fe9040b-0f87-4f67-9e92-9a7b4d9b4784",
                "language": "python"
            },
            "outputs": [
                {
                    "data": {
                        "text/html": [
                            "<div>\n",
                            "<style scoped>\n",
                            "    .dataframe tbody tr th:only-of-type {\n",
                            "        vertical-align: middle;\n",
                            "    }\n",
                            "\n",
                            "    .dataframe tbody tr th {\n",
                            "        vertical-align: top;\n",
                            "    }\n",
                            "\n",
                            "    .dataframe thead th {\n",
                            "        text-align: right;\n",
                            "    }\n",
                            "</style>\n",
                            "<table border=\"1\" class=\"dataframe\">\n",
                            "  <thead>\n",
                            "    <tr style=\"text-align: right;\">\n",
                            "      <th></th>\n",
                            "      <th>cnpj</th>\n",
                            "      <th>razao_social</th>\n",
                            "      <th>capital_social</th>\n",
                            "      <th>cnae_fiscal</th>\n",
                            "      <th>cnae_fiscal_descricao</th>\n",
                            "      <th>bairro</th>\n",
                            "      <th>cep</th>\n",
                            "      <th>codigo_municipio</th>\n",
                            "      <th>municipio</th>\n",
                            "      <th>cidade</th>\n",
                            "      <th>estado</th>\n",
                            "      <th>clima</th>\n",
                            "      <th>temperatura_max</th>\n",
                            "      <th>temperatura_min</th>\n",
                            "      <th>atualizado_em</th>\n",
                            "    </tr>\n",
                            "  </thead>\n",
                            "  <tbody>\n",
                            "    <tr>\n",
                            "      <th>0</th>\n",
                            "      <td>06990590000123</td>\n",
                            "      <td>GOOGLE BRASIL INTERNET LTDA.</td>\n",
                            "      <td>200000000</td>\n",
                            "      <td>6319400</td>\n",
                            "      <td>Portais, provedores de conteúdo e outros servi...</td>\n",
                            "      <td>ITAIM BIBI</td>\n",
                            "      <td>04538133</td>\n",
                            "      <td>7107</td>\n",
                            "      <td>SAO PAULO</td>\n",
                            "      <td>São Paulo</td>\n",
                            "      <td>SP</td>\n",
                            "      <td>Parcialmente Nublado</td>\n",
                            "      <td>20</td>\n",
                            "      <td>16</td>\n",
                            "      <td>2023-10-18</td>\n",
                            "    </tr>\n",
                            "  </tbody>\n",
                            "</table>\n",
                            "</div>"
                        ],
                        "text/plain": [
                            "             cnpj                  razao_social  capital_social  cnae_fiscal  \\\n",
                            "0  06990590000123  GOOGLE BRASIL INTERNET LTDA.       200000000      6319400   \n",
                            "\n",
                            "                               cnae_fiscal_descricao      bairro       cep  \\\n",
                            "0  Portais, provedores de conteúdo e outros servi...  ITAIM BIBI  04538133   \n",
                            "\n",
                            "   codigo_municipio  municipio     cidade estado                 clima  \\\n",
                            "0              7107  SAO PAULO  São Paulo     SP  Parcialmente Nublado   \n",
                            "\n",
                            "   temperatura_max  temperatura_min atualizado_em  \n",
                            "0               20               16    2023-10-18  "
                        ]
                    },
                    "execution_count": 14,
                    "metadata": {},
                    "output_type": "execute_result"
                }
            ],
            "source": [
                "cnpj = input('Digite o cnpj da empresa que deseja fazer uma consulta') #06990590000123\n",
                "\n",
                "main(cnpj)\n",
                "\n",
                "\n",
                "# sys_tables()\n",
                "df = ler_dadosDB('empresa')\n",
                "df.head()"
            ]
        },
        {
            "cell_type": "code",
            "execution_count": 15,
            "metadata": {},
            "outputs": [
                {
                    "data": {
                        "text/plain": [
                            "(1, 15)"
                        ]
                    },
                    "execution_count": 15,
                    "metadata": {},
                    "output_type": "execute_result"
                }
            ],
            "source": [
                "df.shape"
            ]
        }
    ],
    "metadata": {
        "kernelspec": {
            "display_name": "Python 3",
            "language": "python",
            "name": "python3"
        },
        "language_info": {
            "codemirror_mode": {
                "name": "ipython",
                "version": 3
            },
            "file_extension": ".py",
            "mimetype": "text/x-python",
            "name": "python",
            "nbconvert_exporter": "python",
            "pygments_lexer": "ipython3",
            "version": "3.11.1"
        }
    },
    "nbformat": 4,
    "nbformat_minor": 2
}
